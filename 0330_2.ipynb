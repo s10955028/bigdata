{
  "nbformat": 4,
  "nbformat_minor": 0,
  "metadata": {
    "colab": {
      "name": "0330_2.ipynb",
      "provenance": [],
      "collapsed_sections": [],
      "include_colab_link": true
    },
    "kernelspec": {
      "name": "ir",
      "display_name": "R"
    }
  },
  "cells": [
    {
      "cell_type": "markdown",
      "metadata": {
        "id": "view-in-github",
        "colab_type": "text"
      },
      "source": [
        "<a href=\"https://colab.research.google.com/github/s10955028/bigdata/blob/main/0330_2.ipynb\" target=\"_parent\"><img src=\"https://colab.research.google.com/assets/colab-badge.svg\" alt=\"Open In Colab\"/></a>"
      ]
    },
    {
      "cell_type": "code",
      "metadata": {
        "colab": {
          "base_uri": "https://localhost:8080/"
        },
        "id": "sxPr8tyFNyJJ",
        "outputId": "1be92ed0-622d-423a-b5d4-8b4503129c47"
      },
      "source": [
        "install.packages(\"rJava\")\n",
        "install.packages(\"jiebaR\")\n",
        "install.packages(\"tmcn\")\n",
        "install.packages(\"dplyr\")\n",
        "install.packages(\"lubridate\")\n",
        "install.packages(\"stringr\")\n",
        "install.packages(\"wordcloud\")\n",
        "install.packages(\"Rwordseg\", repos = \"http://R-Forge.R-project.org\")"
      ],
      "execution_count": 2,
      "outputs": [
        {
          "output_type": "stream",
          "text": [
            "Installing package into ‘/usr/local/lib/R/site-library’\n",
            "(as ‘lib’ is unspecified)\n",
            "\n",
            "Installing package into ‘/usr/local/lib/R/site-library’\n",
            "(as ‘lib’ is unspecified)\n",
            "\n",
            "also installing the dependency ‘jiebaRD’\n",
            "\n",
            "\n",
            "Installing package into ‘/usr/local/lib/R/site-library’\n",
            "(as ‘lib’ is unspecified)\n",
            "\n",
            "Installing package into ‘/usr/local/lib/R/site-library’\n",
            "(as ‘lib’ is unspecified)\n",
            "\n",
            "Installing package into ‘/usr/local/lib/R/site-library’\n",
            "(as ‘lib’ is unspecified)\n",
            "\n",
            "Installing package into ‘/usr/local/lib/R/site-library’\n",
            "(as ‘lib’ is unspecified)\n",
            "\n",
            "Installing package into ‘/usr/local/lib/R/site-library’\n",
            "(as ‘lib’ is unspecified)\n",
            "\n",
            "Installing package into ‘/usr/local/lib/R/site-library’\n",
            "(as ‘lib’ is unspecified)\n",
            "\n",
            "Warning message:\n",
            "“dependency ‘HMM’ is not available”\n",
            "Warning message in install.packages(\"Rwordseg\", repos = \"http://R-Forge.R-project.org\"):\n",
            "“installation of package ‘Rwordseg’ had non-zero exit status”\n"
          ],
          "name": "stderr"
        }
      ]
    },
    {
      "cell_type": "code",
      "metadata": {
        "id": "y7rjK0rbOsrI"
      },
      "source": [
        "library(dplyr)\n",
        "library(lubridate)\n",
        "library(stringr)\n",
        "library(jiebaR)\n",
        "library(wordcloud)"
      ],
      "execution_count": 19,
      "outputs": []
    },
    {
      "cell_type": "code",
      "metadata": {
        "id": "VGWKxvKuPLPI"
      },
      "source": [
        "content <- \"統一獅隊「雙傑棍」開季還沒進入狀況，今天特地換換棒次，蘇智傑改打開路先鋒、陳傑憲移到第二棒，打擊教練劉育辰解釋，需要多一點人在前段上壘，才做此安排。蘇智傑開季至今8場比賽敲出5支安打，打擊率剛好2成，陳傑憲敲出6安打，不過打擊率是1成82，兩人都跟去年有些落差，獅隊總教練林岳平認為，或許是自己在春訓安排的問題，讓兩人沒有足夠的出賽機會，去調整手感進入開季節奏。劉育辰認為，這樣的狀況，只能透過練習日增加實戰打擊，「讓他們快速進入比賽節奏，趕緊提升起來。」至於今天打線安排，劉育辰認為，在陳傑憲上壘率下滑的情況下，考量到蘇智傑過往上壘率不差，因此需要多一個能上壘的人選。劉育辰也說，陳傑憲狀況好壞跟球隊戰績影響很大，「這個發動機沒有啟動下，目前很難有人取代他，只能試著讓他節奏趕快找回來。」不過劉育辰指出，陳傑憲目前有點給自己過大壓力，「他對自己要求高」。\""
      ],
      "execution_count": 20,
      "outputs": []
    },
    {
      "cell_type": "code",
      "metadata": {
        "id": "8tmEFa2kPa2Y"
      },
      "source": [
        "cutter <- worker(bylines = F )"
      ],
      "execution_count": 21,
      "outputs": []
    },
    {
      "cell_type": "code",
      "metadata": {
        "colab": {
          "base_uri": "https://localhost:8080/",
          "height": 187
        },
        "id": "ZZ1Dafe1Pndq",
        "outputId": "86e772cd-c5e9-45e0-bc0d-24b6ffcddb79"
      },
      "source": [
        "cutter[content]"
      ],
      "execution_count": 22,
      "outputs": [
        {
          "output_type": "display_data",
          "data": {
            "text/plain": [
              "  [1] \"統一\"     \"獅隊\"     \"雙\"       \"傑\"       \"棍\"       \"開\"      \n",
              "  [7] \"季\"       \"還\"       \"沒\"       \"進入\"     \"狀況\"     \"今天\"    \n",
              " [13] \"特地\"     \"換換\"     \"棒次\"     \"蘇智傑\"   \"改打\"     \"開路先鋒\"\n",
              " [19] \"陳\"       \"傑\"       \"憲\"       \"移\"       \"到\"       \"第二\"    \n",
              " [25] \"棒\"       \"打擊\"     \"教練\"     \"劉育辰\"   \"解釋\"     \"需要\"    \n",
              " [31] \"多一點\"   \"人\"       \"在\"       \"前段\"     \"上壘\"     \"才\"      \n",
              " [37] \"做\"       \"此\"       \"安排\"     \"蘇智傑\"   \"開季\"     \"至今\"    \n",
              " [43] \"8\"        \"場\"       \"比賽\"     \"敲出\"     \"5\"        \"支安打\"  \n",
              " [49] \"打擊率\"   \"剛好\"     \"2\"        \"成\"       \"陳\"       \"傑憲\"    \n",
              " [55] \"敲出\"     \"6\"        \"安打\"     \"不過\"     \"打擊率\"   \"是\"      \n",
              " [61] \"1\"        \"成\"       \"82\"       \"兩人\"     \"都\"       \"跟\"      \n",
              " [67] \"去年\"     \"有些\"     \"落差\"     \"獅隊\"     \"總教練\"   \"林岳平\"  \n",
              " [73] \"認為\"     \"或許\"     \"是\"       \"自己\"     \"在\"       \"春訓\"    \n",
              " [79] \"安排\"     \"的\"       \"問題\"     \"讓\"       \"兩人\"     \"沒有\"    \n",
              " [85] \"足夠\"     \"的\"       \"出賽\"     \"機會\"     \"去\"       \"調整\"    \n",
              " [91] \"手感\"     \"進入\"     \"開\"       \"季節\"     \"奏\"       \"劉育辰\"  \n",
              " [97] \"認為\"     \"這樣\"     \"的\"       \"狀況\"     \"只能\"     \"透過\"    \n",
              "[103] \"練習\"     \"日\"       \"增加\"     \"實戰\"     \"打擊\"     \"讓\"      \n",
              "[109] \"他們\"     \"快速\"     \"進入\"     \"比賽\"     \"節奏\"     \"趕緊\"    \n",
              "[115] \"提升\"     \"起來\"     \"至於\"     \"今天\"     \"打線\"     \"安排\"    \n",
              "[121] \"劉育辰\"   \"認為\"     \"在\"       \"陳\"       \"傑憲\"     \"上壘\"    \n",
              "[127] \"率\"       \"下滑\"     \"的\"       \"情況\"     \"下\"       \"考量\"    \n",
              "[133] \"到\"       \"蘇智傑\"   \"過往\"     \"上壘\"     \"率不差\"   \"因此\"    \n",
              "[139] \"需要\"     \"多\"       \"一個\"     \"能\"       \"上壘\"     \"的\"      \n",
              "[145] \"人選\"     \"劉育辰\"   \"也\"       \"說\"       \"陳\"       \"傑憲\"    \n",
              "[151] \"狀況\"     \"好壞\"     \"跟\"       \"球隊\"     \"戰績\"     \"影響\"    \n",
              "[157] \"很大\"     \"這個\"     \"發動機\"   \"沒有\"     \"啟動\"     \"下\"      \n",
              "[163] \"目前\"     \"很難\"     \"有人\"     \"取代\"     \"他\"       \"只能\"    \n",
              "[169] \"試著\"     \"讓\"       \"他\"       \"節奏\"     \"趕快\"     \"找\"      \n",
              "[175] \"回來\"     \"不過\"     \"劉育辰\"   \"指出\"     \"陳\"       \"傑憲\"    \n",
              "[181] \"目前\"     \"有點\"     \"給\"       \"自己\"     \"過大\"     \"壓力\"    \n",
              "[187] \"他\"       \"對\"       \"自己\"     \"要求\"     \"高\"      "
            ],
            "text/latex": "\\begin{enumerate*}\n\\item '統一'\n\\item '獅隊'\n\\item '雙'\n\\item '傑'\n\\item '棍'\n\\item '開'\n\\item '季'\n\\item '還'\n\\item '沒'\n\\item '進入'\n\\item '狀況'\n\\item '今天'\n\\item '特地'\n\\item '換換'\n\\item '棒次'\n\\item '蘇智傑'\n\\item '改打'\n\\item '開路先鋒'\n\\item '陳'\n\\item '傑'\n\\item '憲'\n\\item '移'\n\\item '到'\n\\item '第二'\n\\item '棒'\n\\item '打擊'\n\\item '教練'\n\\item '劉育辰'\n\\item '解釋'\n\\item '需要'\n\\item '多一點'\n\\item '人'\n\\item '在'\n\\item '前段'\n\\item '上壘'\n\\item '才'\n\\item '做'\n\\item '此'\n\\item '安排'\n\\item '蘇智傑'\n\\item '開季'\n\\item '至今'\n\\item '8'\n\\item '場'\n\\item '比賽'\n\\item '敲出'\n\\item '5'\n\\item '支安打'\n\\item '打擊率'\n\\item '剛好'\n\\item '2'\n\\item '成'\n\\item '陳'\n\\item '傑憲'\n\\item '敲出'\n\\item '6'\n\\item '安打'\n\\item '不過'\n\\item '打擊率'\n\\item '是'\n\\item '1'\n\\item '成'\n\\item '82'\n\\item '兩人'\n\\item '都'\n\\item '跟'\n\\item '去年'\n\\item '有些'\n\\item '落差'\n\\item '獅隊'\n\\item '總教練'\n\\item '林岳平'\n\\item '認為'\n\\item '或許'\n\\item '是'\n\\item '自己'\n\\item '在'\n\\item '春訓'\n\\item '安排'\n\\item '的'\n\\item '問題'\n\\item '讓'\n\\item '兩人'\n\\item '沒有'\n\\item '足夠'\n\\item '的'\n\\item '出賽'\n\\item '機會'\n\\item '去'\n\\item '調整'\n\\item '手感'\n\\item '進入'\n\\item '開'\n\\item '季節'\n\\item '奏'\n\\item '劉育辰'\n\\item '認為'\n\\item '這樣'\n\\item '的'\n\\item '狀況'\n\\item '只能'\n\\item '透過'\n\\item '練習'\n\\item '日'\n\\item '增加'\n\\item '實戰'\n\\item '打擊'\n\\item '讓'\n\\item '他們'\n\\item '快速'\n\\item '進入'\n\\item '比賽'\n\\item '節奏'\n\\item '趕緊'\n\\item '提升'\n\\item '起來'\n\\item '至於'\n\\item '今天'\n\\item '打線'\n\\item '安排'\n\\item '劉育辰'\n\\item '認為'\n\\item '在'\n\\item '陳'\n\\item '傑憲'\n\\item '上壘'\n\\item '率'\n\\item '下滑'\n\\item '的'\n\\item '情況'\n\\item '下'\n\\item '考量'\n\\item '到'\n\\item '蘇智傑'\n\\item '過往'\n\\item '上壘'\n\\item '率不差'\n\\item '因此'\n\\item '需要'\n\\item '多'\n\\item '一個'\n\\item '能'\n\\item '上壘'\n\\item '的'\n\\item '人選'\n\\item '劉育辰'\n\\item '也'\n\\item '說'\n\\item '陳'\n\\item '傑憲'\n\\item '狀況'\n\\item '好壞'\n\\item '跟'\n\\item '球隊'\n\\item '戰績'\n\\item '影響'\n\\item '很大'\n\\item '這個'\n\\item '發動機'\n\\item '沒有'\n\\item '啟動'\n\\item '下'\n\\item '目前'\n\\item '很難'\n\\item '有人'\n\\item '取代'\n\\item '他'\n\\item '只能'\n\\item '試著'\n\\item '讓'\n\\item '他'\n\\item '節奏'\n\\item '趕快'\n\\item '找'\n\\item '回來'\n\\item '不過'\n\\item '劉育辰'\n\\item '指出'\n\\item '陳'\n\\item '傑憲'\n\\item '目前'\n\\item '有點'\n\\item '給'\n\\item '自己'\n\\item '過大'\n\\item '壓力'\n\\item '他'\n\\item '對'\n\\item '自己'\n\\item '要求'\n\\item '高'\n\\end{enumerate*}\n",
            "text/markdown": "1. '統一'\n2. '獅隊'\n3. '雙'\n4. '傑'\n5. '棍'\n6. '開'\n7. '季'\n8. '還'\n9. '沒'\n10. '進入'\n11. '狀況'\n12. '今天'\n13. '特地'\n14. '換換'\n15. '棒次'\n16. '蘇智傑'\n17. '改打'\n18. '開路先鋒'\n19. '陳'\n20. '傑'\n21. '憲'\n22. '移'\n23. '到'\n24. '第二'\n25. '棒'\n26. '打擊'\n27. '教練'\n28. '劉育辰'\n29. '解釋'\n30. '需要'\n31. '多一點'\n32. '人'\n33. '在'\n34. '前段'\n35. '上壘'\n36. '才'\n37. '做'\n38. '此'\n39. '安排'\n40. '蘇智傑'\n41. '開季'\n42. '至今'\n43. '8'\n44. '場'\n45. '比賽'\n46. '敲出'\n47. '5'\n48. '支安打'\n49. '打擊率'\n50. '剛好'\n51. '2'\n52. '成'\n53. '陳'\n54. '傑憲'\n55. '敲出'\n56. '6'\n57. '安打'\n58. '不過'\n59. '打擊率'\n60. '是'\n61. '1'\n62. '成'\n63. '82'\n64. '兩人'\n65. '都'\n66. '跟'\n67. '去年'\n68. '有些'\n69. '落差'\n70. '獅隊'\n71. '總教練'\n72. '林岳平'\n73. '認為'\n74. '或許'\n75. '是'\n76. '自己'\n77. '在'\n78. '春訓'\n79. '安排'\n80. '的'\n81. '問題'\n82. '讓'\n83. '兩人'\n84. '沒有'\n85. '足夠'\n86. '的'\n87. '出賽'\n88. '機會'\n89. '去'\n90. '調整'\n91. '手感'\n92. '進入'\n93. '開'\n94. '季節'\n95. '奏'\n96. '劉育辰'\n97. '認為'\n98. '這樣'\n99. '的'\n100. '狀況'\n101. '只能'\n102. '透過'\n103. '練習'\n104. '日'\n105. '增加'\n106. '實戰'\n107. '打擊'\n108. '讓'\n109. '他們'\n110. '快速'\n111. '進入'\n112. '比賽'\n113. '節奏'\n114. '趕緊'\n115. '提升'\n116. '起來'\n117. '至於'\n118. '今天'\n119. '打線'\n120. '安排'\n121. '劉育辰'\n122. '認為'\n123. '在'\n124. '陳'\n125. '傑憲'\n126. '上壘'\n127. '率'\n128. '下滑'\n129. '的'\n130. '情況'\n131. '下'\n132. '考量'\n133. '到'\n134. '蘇智傑'\n135. '過往'\n136. '上壘'\n137. '率不差'\n138. '因此'\n139. '需要'\n140. '多'\n141. '一個'\n142. '能'\n143. '上壘'\n144. '的'\n145. '人選'\n146. '劉育辰'\n147. '也'\n148. '說'\n149. '陳'\n150. '傑憲'\n151. '狀況'\n152. '好壞'\n153. '跟'\n154. '球隊'\n155. '戰績'\n156. '影響'\n157. '很大'\n158. '這個'\n159. '發動機'\n160. '沒有'\n161. '啟動'\n162. '下'\n163. '目前'\n164. '很難'\n165. '有人'\n166. '取代'\n167. '他'\n168. '只能'\n169. '試著'\n170. '讓'\n171. '他'\n172. '節奏'\n173. '趕快'\n174. '找'\n175. '回來'\n176. '不過'\n177. '劉育辰'\n178. '指出'\n179. '陳'\n180. '傑憲'\n181. '目前'\n182. '有點'\n183. '給'\n184. '自己'\n185. '過大'\n186. '壓力'\n187. '他'\n188. '對'\n189. '自己'\n190. '要求'\n191. '高'\n\n\n",
            "text/html": [
              "<style>\n",
              ".list-inline {list-style: none; margin:0; padding: 0}\n",
              ".list-inline>li {display: inline-block}\n",
              ".list-inline>li:not(:last-child)::after {content: \"\\00b7\"; padding: 0 .5ex}\n",
              "</style>\n",
              "<ol class=list-inline><li>'統一'</li><li>'獅隊'</li><li>'雙'</li><li>'傑'</li><li>'棍'</li><li>'開'</li><li>'季'</li><li>'還'</li><li>'沒'</li><li>'進入'</li><li>'狀況'</li><li>'今天'</li><li>'特地'</li><li>'換換'</li><li>'棒次'</li><li>'蘇智傑'</li><li>'改打'</li><li>'開路先鋒'</li><li>'陳'</li><li>'傑'</li><li>'憲'</li><li>'移'</li><li>'到'</li><li>'第二'</li><li>'棒'</li><li>'打擊'</li><li>'教練'</li><li>'劉育辰'</li><li>'解釋'</li><li>'需要'</li><li>'多一點'</li><li>'人'</li><li>'在'</li><li>'前段'</li><li>'上壘'</li><li>'才'</li><li>'做'</li><li>'此'</li><li>'安排'</li><li>'蘇智傑'</li><li>'開季'</li><li>'至今'</li><li>'8'</li><li>'場'</li><li>'比賽'</li><li>'敲出'</li><li>'5'</li><li>'支安打'</li><li>'打擊率'</li><li>'剛好'</li><li>'2'</li><li>'成'</li><li>'陳'</li><li>'傑憲'</li><li>'敲出'</li><li>'6'</li><li>'安打'</li><li>'不過'</li><li>'打擊率'</li><li>'是'</li><li>'1'</li><li>'成'</li><li>'82'</li><li>'兩人'</li><li>'都'</li><li>'跟'</li><li>'去年'</li><li>'有些'</li><li>'落差'</li><li>'獅隊'</li><li>'總教練'</li><li>'林岳平'</li><li>'認為'</li><li>'或許'</li><li>'是'</li><li>'自己'</li><li>'在'</li><li>'春訓'</li><li>'安排'</li><li>'的'</li><li>'問題'</li><li>'讓'</li><li>'兩人'</li><li>'沒有'</li><li>'足夠'</li><li>'的'</li><li>'出賽'</li><li>'機會'</li><li>'去'</li><li>'調整'</li><li>'手感'</li><li>'進入'</li><li>'開'</li><li>'季節'</li><li>'奏'</li><li>'劉育辰'</li><li>'認為'</li><li>'這樣'</li><li>'的'</li><li>'狀況'</li><li>'只能'</li><li>'透過'</li><li>'練習'</li><li>'日'</li><li>'增加'</li><li>'實戰'</li><li>'打擊'</li><li>'讓'</li><li>'他們'</li><li>'快速'</li><li>'進入'</li><li>'比賽'</li><li>'節奏'</li><li>'趕緊'</li><li>'提升'</li><li>'起來'</li><li>'至於'</li><li>'今天'</li><li>'打線'</li><li>'安排'</li><li>'劉育辰'</li><li>'認為'</li><li>'在'</li><li>'陳'</li><li>'傑憲'</li><li>'上壘'</li><li>'率'</li><li>'下滑'</li><li>'的'</li><li>'情況'</li><li>'下'</li><li>'考量'</li><li>'到'</li><li>'蘇智傑'</li><li>'過往'</li><li>'上壘'</li><li>'率不差'</li><li>'因此'</li><li>'需要'</li><li>'多'</li><li>'一個'</li><li>'能'</li><li>'上壘'</li><li>'的'</li><li>'人選'</li><li>'劉育辰'</li><li>'也'</li><li>'說'</li><li>'陳'</li><li>'傑憲'</li><li>'狀況'</li><li>'好壞'</li><li>'跟'</li><li>'球隊'</li><li>'戰績'</li><li>'影響'</li><li>'很大'</li><li>'這個'</li><li>'發動機'</li><li>'沒有'</li><li>'啟動'</li><li>'下'</li><li>'目前'</li><li>'很難'</li><li>'有人'</li><li>'取代'</li><li>'他'</li><li>'只能'</li><li>'試著'</li><li>'讓'</li><li>'他'</li><li>'節奏'</li><li>'趕快'</li><li>'找'</li><li>'回來'</li><li>'不過'</li><li>'劉育辰'</li><li>'指出'</li><li>'陳'</li><li>'傑憲'</li><li>'目前'</li><li>'有點'</li><li>'給'</li><li>'自己'</li><li>'過大'</li><li>'壓力'</li><li>'他'</li><li>'對'</li><li>'自己'</li><li>'要求'</li><li>'高'</li></ol>\n"
            ]
          },
          "metadata": {
            "tags": []
          }
        }
      ]
    },
    {
      "cell_type": "code",
      "metadata": {
        "colab": {
          "base_uri": "https://localhost:8080/",
          "height": 153
        },
        "id": "MZBzbeRBPsfQ",
        "outputId": "c9c3277f-46bc-4600-d4e4-cb5a3e7c7e6a"
      },
      "source": [
        "new_words <- c(\"打擊率\",\"蘇智傑\",\"上壘\",\"傑憲\",\"劉育辰\",\"統一\",\"安打\",\"節奏\")\n",
        "for (i in 1:length(new_words)){new_user_word(cutter, new_words[i])}\n",
        "content <- str_remove_all(content,\"[0-9a-zA-Z]+?\")\n",
        "cutter[content]"
      ],
      "execution_count": 54,
      "outputs": [
        {
          "output_type": "display_data",
          "data": {
            "text/plain": [
              "  [1] \"統一\"     \"獅隊\"     \"季\"       \"進入\"     \"狀況\"     \"今天\"    \n",
              "  [7] \"特地\"     \"換換\"     \"棒次\"     \"蘇智傑\"   \"改打\"     \"開路先鋒\"\n",
              " [13] \"傑憲\"     \"移到\"     \"第二\"     \"棒\"       \"打擊\"     \"教練\"    \n",
              " [19] \"劉育辰\"   \"解釋\"     \"需要\"     \"多一點\"   \"人\"       \"前段\"    \n",
              " [25] \"上壘\"     \"此\"       \"安排\"     \"蘇智傑\"   \"開季\"     \"至今\"    \n",
              " [31] \"場\"       \"比賽\"     \"敲出\"     \"支\"       \"安打\"     \"打擊率\"  \n",
              " [37] \"剛好\"     \"傑憲\"     \"敲出\"     \"安打\"     \"打擊率\"   \"兩人\"    \n",
              " [43] \"去年\"     \"有些\"     \"落差\"     \"獅隊\"     \"總教練\"   \"林岳平\"  \n",
              " [49] \"認為\"     \"或許\"     \"自己\"     \"春訓\"     \"安排\"     \"問題\"    \n",
              " [55] \"兩人\"     \"足夠\"     \"出賽\"     \"機會\"     \"去\"       \"調整\"    \n",
              " [61] \"手感\"     \"進入\"     \"開季\"     \"節奏\"     \"劉育辰\"   \"認為\"    \n",
              " [67] \"這樣\"     \"狀況\"     \"透過\"     \"練習\"     \"日\"       \"增加\"    \n",
              " [73] \"實戰\"     \"打擊\"     \"他們\"     \"快速\"     \"進入\"     \"比賽\"    \n",
              " [79] \"節奏\"     \"趕緊\"     \"提升\"     \"起來\"     \"至於\"     \"今天\"    \n",
              " [85] \"打線\"     \"安排\"     \"劉育辰\"   \"認為\"     \"傑憲\"     \"上壘\"    \n",
              " [91] \"率\"       \"下滑\"     \"情況\"     \"考量\"     \"到\"       \"蘇智傑\"  \n",
              " [97] \"過往\"     \"上壘\"     \"率不差\"   \"因此\"     \"需要\"     \"多\"      \n",
              "[103] \"一個\"     \"上壘\"     \"人選\"     \"劉育辰\"   \"傑憲\"     \"狀況\"    \n",
              "[109] \"好壞\"     \"球隊\"     \"戰績\"     \"影響\"     \"很大\"     \"這個\"    \n",
              "[115] \"發動機\"   \"啟動\"     \"目前\"     \"很難\"     \"有人\"     \"取代\"    \n",
              "[121] \"試著\"     \"節奏\"     \"趕快\"     \"回來\"     \"劉育辰\"   \"指出\"    \n",
              "[127] \"傑憲\"     \"目前\"     \"有點\"     \"自己\"     \"過大\"     \"壓力\"    \n",
              "[133] \"自己\"     \"要求\"     \"高\"      "
            ],
            "text/latex": "\\begin{enumerate*}\n\\item '統一'\n\\item '獅隊'\n\\item '季'\n\\item '進入'\n\\item '狀況'\n\\item '今天'\n\\item '特地'\n\\item '換換'\n\\item '棒次'\n\\item '蘇智傑'\n\\item '改打'\n\\item '開路先鋒'\n\\item '傑憲'\n\\item '移到'\n\\item '第二'\n\\item '棒'\n\\item '打擊'\n\\item '教練'\n\\item '劉育辰'\n\\item '解釋'\n\\item '需要'\n\\item '多一點'\n\\item '人'\n\\item '前段'\n\\item '上壘'\n\\item '此'\n\\item '安排'\n\\item '蘇智傑'\n\\item '開季'\n\\item '至今'\n\\item '場'\n\\item '比賽'\n\\item '敲出'\n\\item '支'\n\\item '安打'\n\\item '打擊率'\n\\item '剛好'\n\\item '傑憲'\n\\item '敲出'\n\\item '安打'\n\\item '打擊率'\n\\item '兩人'\n\\item '去年'\n\\item '有些'\n\\item '落差'\n\\item '獅隊'\n\\item '總教練'\n\\item '林岳平'\n\\item '認為'\n\\item '或許'\n\\item '自己'\n\\item '春訓'\n\\item '安排'\n\\item '問題'\n\\item '兩人'\n\\item '足夠'\n\\item '出賽'\n\\item '機會'\n\\item '去'\n\\item '調整'\n\\item '手感'\n\\item '進入'\n\\item '開季'\n\\item '節奏'\n\\item '劉育辰'\n\\item '認為'\n\\item '這樣'\n\\item '狀況'\n\\item '透過'\n\\item '練習'\n\\item '日'\n\\item '增加'\n\\item '實戰'\n\\item '打擊'\n\\item '他們'\n\\item '快速'\n\\item '進入'\n\\item '比賽'\n\\item '節奏'\n\\item '趕緊'\n\\item '提升'\n\\item '起來'\n\\item '至於'\n\\item '今天'\n\\item '打線'\n\\item '安排'\n\\item '劉育辰'\n\\item '認為'\n\\item '傑憲'\n\\item '上壘'\n\\item '率'\n\\item '下滑'\n\\item '情況'\n\\item '考量'\n\\item '到'\n\\item '蘇智傑'\n\\item '過往'\n\\item '上壘'\n\\item '率不差'\n\\item '因此'\n\\item '需要'\n\\item '多'\n\\item '一個'\n\\item '上壘'\n\\item '人選'\n\\item '劉育辰'\n\\item '傑憲'\n\\item '狀況'\n\\item '好壞'\n\\item '球隊'\n\\item '戰績'\n\\item '影響'\n\\item '很大'\n\\item '這個'\n\\item '發動機'\n\\item '啟動'\n\\item '目前'\n\\item '很難'\n\\item '有人'\n\\item '取代'\n\\item '試著'\n\\item '節奏'\n\\item '趕快'\n\\item '回來'\n\\item '劉育辰'\n\\item '指出'\n\\item '傑憲'\n\\item '目前'\n\\item '有點'\n\\item '自己'\n\\item '過大'\n\\item '壓力'\n\\item '自己'\n\\item '要求'\n\\item '高'\n\\end{enumerate*}\n",
            "text/markdown": "1. '統一'\n2. '獅隊'\n3. '季'\n4. '進入'\n5. '狀況'\n6. '今天'\n7. '特地'\n8. '換換'\n9. '棒次'\n10. '蘇智傑'\n11. '改打'\n12. '開路先鋒'\n13. '傑憲'\n14. '移到'\n15. '第二'\n16. '棒'\n17. '打擊'\n18. '教練'\n19. '劉育辰'\n20. '解釋'\n21. '需要'\n22. '多一點'\n23. '人'\n24. '前段'\n25. '上壘'\n26. '此'\n27. '安排'\n28. '蘇智傑'\n29. '開季'\n30. '至今'\n31. '場'\n32. '比賽'\n33. '敲出'\n34. '支'\n35. '安打'\n36. '打擊率'\n37. '剛好'\n38. '傑憲'\n39. '敲出'\n40. '安打'\n41. '打擊率'\n42. '兩人'\n43. '去年'\n44. '有些'\n45. '落差'\n46. '獅隊'\n47. '總教練'\n48. '林岳平'\n49. '認為'\n50. '或許'\n51. '自己'\n52. '春訓'\n53. '安排'\n54. '問題'\n55. '兩人'\n56. '足夠'\n57. '出賽'\n58. '機會'\n59. '去'\n60. '調整'\n61. '手感'\n62. '進入'\n63. '開季'\n64. '節奏'\n65. '劉育辰'\n66. '認為'\n67. '這樣'\n68. '狀況'\n69. '透過'\n70. '練習'\n71. '日'\n72. '增加'\n73. '實戰'\n74. '打擊'\n75. '他們'\n76. '快速'\n77. '進入'\n78. '比賽'\n79. '節奏'\n80. '趕緊'\n81. '提升'\n82. '起來'\n83. '至於'\n84. '今天'\n85. '打線'\n86. '安排'\n87. '劉育辰'\n88. '認為'\n89. '傑憲'\n90. '上壘'\n91. '率'\n92. '下滑'\n93. '情況'\n94. '考量'\n95. '到'\n96. '蘇智傑'\n97. '過往'\n98. '上壘'\n99. '率不差'\n100. '因此'\n101. '需要'\n102. '多'\n103. '一個'\n104. '上壘'\n105. '人選'\n106. '劉育辰'\n107. '傑憲'\n108. '狀況'\n109. '好壞'\n110. '球隊'\n111. '戰績'\n112. '影響'\n113. '很大'\n114. '這個'\n115. '發動機'\n116. '啟動'\n117. '目前'\n118. '很難'\n119. '有人'\n120. '取代'\n121. '試著'\n122. '節奏'\n123. '趕快'\n124. '回來'\n125. '劉育辰'\n126. '指出'\n127. '傑憲'\n128. '目前'\n129. '有點'\n130. '自己'\n131. '過大'\n132. '壓力'\n133. '自己'\n134. '要求'\n135. '高'\n\n\n",
            "text/html": [
              "<style>\n",
              ".list-inline {list-style: none; margin:0; padding: 0}\n",
              ".list-inline>li {display: inline-block}\n",
              ".list-inline>li:not(:last-child)::after {content: \"\\00b7\"; padding: 0 .5ex}\n",
              "</style>\n",
              "<ol class=list-inline><li>'統一'</li><li>'獅隊'</li><li>'季'</li><li>'進入'</li><li>'狀況'</li><li>'今天'</li><li>'特地'</li><li>'換換'</li><li>'棒次'</li><li>'蘇智傑'</li><li>'改打'</li><li>'開路先鋒'</li><li>'傑憲'</li><li>'移到'</li><li>'第二'</li><li>'棒'</li><li>'打擊'</li><li>'教練'</li><li>'劉育辰'</li><li>'解釋'</li><li>'需要'</li><li>'多一點'</li><li>'人'</li><li>'前段'</li><li>'上壘'</li><li>'此'</li><li>'安排'</li><li>'蘇智傑'</li><li>'開季'</li><li>'至今'</li><li>'場'</li><li>'比賽'</li><li>'敲出'</li><li>'支'</li><li>'安打'</li><li>'打擊率'</li><li>'剛好'</li><li>'傑憲'</li><li>'敲出'</li><li>'安打'</li><li>'打擊率'</li><li>'兩人'</li><li>'去年'</li><li>'有些'</li><li>'落差'</li><li>'獅隊'</li><li>'總教練'</li><li>'林岳平'</li><li>'認為'</li><li>'或許'</li><li>'自己'</li><li>'春訓'</li><li>'安排'</li><li>'問題'</li><li>'兩人'</li><li>'足夠'</li><li>'出賽'</li><li>'機會'</li><li>'去'</li><li>'調整'</li><li>'手感'</li><li>'進入'</li><li>'開季'</li><li>'節奏'</li><li>'劉育辰'</li><li>'認為'</li><li>'這樣'</li><li>'狀況'</li><li>'透過'</li><li>'練習'</li><li>'日'</li><li>'增加'</li><li>'實戰'</li><li>'打擊'</li><li>'他們'</li><li>'快速'</li><li>'進入'</li><li>'比賽'</li><li>'節奏'</li><li>'趕緊'</li><li>'提升'</li><li>'起來'</li><li>'至於'</li><li>'今天'</li><li>'打線'</li><li>'安排'</li><li>'劉育辰'</li><li>'認為'</li><li>'傑憲'</li><li>'上壘'</li><li>'率'</li><li>'下滑'</li><li>'情況'</li><li>'考量'</li><li>'到'</li><li>'蘇智傑'</li><li>'過往'</li><li>'上壘'</li><li>'率不差'</li><li>'因此'</li><li>'需要'</li><li>'多'</li><li>'一個'</li><li>'上壘'</li><li>'人選'</li><li>'劉育辰'</li><li>'傑憲'</li><li>'狀況'</li><li>'好壞'</li><li>'球隊'</li><li>'戰績'</li><li>'影響'</li><li>'很大'</li><li>'這個'</li><li>'發動機'</li><li>'啟動'</li><li>'目前'</li><li>'很難'</li><li>'有人'</li><li>'取代'</li><li>'試著'</li><li>'節奏'</li><li>'趕快'</li><li>'回來'</li><li>'劉育辰'</li><li>'指出'</li><li>'傑憲'</li><li>'目前'</li><li>'有點'</li><li>'自己'</li><li>'過大'</li><li>'壓力'</li><li>'自己'</li><li>'要求'</li><li>'高'</li></ol>\n"
            ]
          },
          "metadata": {
            "tags": []
          }
        }
      ]
    },
    {
      "cell_type": "code",
      "metadata": {
        "id": "8Br8gdxuRHFZ"
      },
      "source": [
        "new_words <- c(\"打擊率\",\"蘇智傑\",\"上壘\",\"傑憲\",\"劉育辰\",\"統一\",\"安打\",\"節奏\")\n",
        "writeLines(new_words, \"new_words.txt\")"
      ],
      "execution_count": 55,
      "outputs": []
    },
    {
      "cell_type": "code",
      "metadata": {
        "id": "baE0FWIPRh-g"
      },
      "source": [
        "stop_words <- c(\"在\",\"他\",\"陳\",\"才\",\"對\",\"而\",\"也\",\"與\",\"的\",\"雙\",\"傑\",\"棍\",\"還\",\"沒\",\"是\",\"能\",\"跟\",\"下\",\"找\",\"讓\",\"給\",\"成\",\"做\",\"說\",\"都\",\"不過\",\"只能\",\"沒有\",\"開\")\n",
        "writeLines(stop_words, \"stop_words.txt\")"
      ],
      "execution_count": 57,
      "outputs": []
    },
    {
      "cell_type": "code",
      "metadata": {
        "colab": {
          "base_uri": "https://localhost:8080/",
          "height": 153
        },
        "id": "sV8KJexdR-Hn",
        "outputId": "83f1a652-37b4-4e4d-a2ab-e2d702e86385"
      },
      "source": [
        "cutter <- worker(user = \"new_words.txt\", stop_word = \"stop_words.txt\", bylines = FALSE)\n",
        "seg_words <- cutter[content]\n",
        "seg_words"
      ],
      "execution_count": 56,
      "outputs": [
        {
          "output_type": "display_data",
          "data": {
            "text/plain": [
              "  [1] \"統一\"     \"獅隊\"     \"季\"       \"進入\"     \"狀況\"     \"今天\"    \n",
              "  [7] \"特地\"     \"換換\"     \"棒次\"     \"蘇智傑\"   \"改打\"     \"開路先鋒\"\n",
              " [13] \"傑憲\"     \"移到\"     \"第二\"     \"棒\"       \"打擊\"     \"教練\"    \n",
              " [19] \"劉育辰\"   \"解釋\"     \"需要\"     \"多一點\"   \"人\"       \"前段\"    \n",
              " [25] \"上壘\"     \"此\"       \"安排\"     \"蘇智傑\"   \"開季\"     \"至今\"    \n",
              " [31] \"場\"       \"比賽\"     \"敲出\"     \"支\"       \"安打\"     \"打擊率\"  \n",
              " [37] \"剛好\"     \"傑憲\"     \"敲出\"     \"安打\"     \"打擊率\"   \"兩人\"    \n",
              " [43] \"去年\"     \"有些\"     \"落差\"     \"獅隊\"     \"總教練\"   \"林岳平\"  \n",
              " [49] \"認為\"     \"或許\"     \"自己\"     \"春訓\"     \"安排\"     \"問題\"    \n",
              " [55] \"兩人\"     \"足夠\"     \"出賽\"     \"機會\"     \"去\"       \"調整\"    \n",
              " [61] \"手感\"     \"進入\"     \"開季\"     \"節奏\"     \"劉育辰\"   \"認為\"    \n",
              " [67] \"這樣\"     \"狀況\"     \"透過\"     \"練習\"     \"日\"       \"增加\"    \n",
              " [73] \"實戰\"     \"打擊\"     \"他們\"     \"快速\"     \"進入\"     \"比賽\"    \n",
              " [79] \"節奏\"     \"趕緊\"     \"提升\"     \"起來\"     \"至於\"     \"今天\"    \n",
              " [85] \"打線\"     \"安排\"     \"劉育辰\"   \"認為\"     \"傑憲\"     \"上壘\"    \n",
              " [91] \"率\"       \"下滑\"     \"情況\"     \"考量\"     \"到\"       \"蘇智傑\"  \n",
              " [97] \"過往\"     \"上壘\"     \"率不差\"   \"因此\"     \"需要\"     \"多\"      \n",
              "[103] \"一個\"     \"上壘\"     \"人選\"     \"劉育辰\"   \"傑憲\"     \"狀況\"    \n",
              "[109] \"好壞\"     \"球隊\"     \"戰績\"     \"影響\"     \"很大\"     \"這個\"    \n",
              "[115] \"發動機\"   \"啟動\"     \"目前\"     \"很難\"     \"有人\"     \"取代\"    \n",
              "[121] \"試著\"     \"節奏\"     \"趕快\"     \"回來\"     \"劉育辰\"   \"指出\"    \n",
              "[127] \"傑憲\"     \"目前\"     \"有點\"     \"自己\"     \"過大\"     \"壓力\"    \n",
              "[133] \"自己\"     \"要求\"     \"高\"      "
            ],
            "text/latex": "\\begin{enumerate*}\n\\item '統一'\n\\item '獅隊'\n\\item '季'\n\\item '進入'\n\\item '狀況'\n\\item '今天'\n\\item '特地'\n\\item '換換'\n\\item '棒次'\n\\item '蘇智傑'\n\\item '改打'\n\\item '開路先鋒'\n\\item '傑憲'\n\\item '移到'\n\\item '第二'\n\\item '棒'\n\\item '打擊'\n\\item '教練'\n\\item '劉育辰'\n\\item '解釋'\n\\item '需要'\n\\item '多一點'\n\\item '人'\n\\item '前段'\n\\item '上壘'\n\\item '此'\n\\item '安排'\n\\item '蘇智傑'\n\\item '開季'\n\\item '至今'\n\\item '場'\n\\item '比賽'\n\\item '敲出'\n\\item '支'\n\\item '安打'\n\\item '打擊率'\n\\item '剛好'\n\\item '傑憲'\n\\item '敲出'\n\\item '安打'\n\\item '打擊率'\n\\item '兩人'\n\\item '去年'\n\\item '有些'\n\\item '落差'\n\\item '獅隊'\n\\item '總教練'\n\\item '林岳平'\n\\item '認為'\n\\item '或許'\n\\item '自己'\n\\item '春訓'\n\\item '安排'\n\\item '問題'\n\\item '兩人'\n\\item '足夠'\n\\item '出賽'\n\\item '機會'\n\\item '去'\n\\item '調整'\n\\item '手感'\n\\item '進入'\n\\item '開季'\n\\item '節奏'\n\\item '劉育辰'\n\\item '認為'\n\\item '這樣'\n\\item '狀況'\n\\item '透過'\n\\item '練習'\n\\item '日'\n\\item '增加'\n\\item '實戰'\n\\item '打擊'\n\\item '他們'\n\\item '快速'\n\\item '進入'\n\\item '比賽'\n\\item '節奏'\n\\item '趕緊'\n\\item '提升'\n\\item '起來'\n\\item '至於'\n\\item '今天'\n\\item '打線'\n\\item '安排'\n\\item '劉育辰'\n\\item '認為'\n\\item '傑憲'\n\\item '上壘'\n\\item '率'\n\\item '下滑'\n\\item '情況'\n\\item '考量'\n\\item '到'\n\\item '蘇智傑'\n\\item '過往'\n\\item '上壘'\n\\item '率不差'\n\\item '因此'\n\\item '需要'\n\\item '多'\n\\item '一個'\n\\item '上壘'\n\\item '人選'\n\\item '劉育辰'\n\\item '傑憲'\n\\item '狀況'\n\\item '好壞'\n\\item '球隊'\n\\item '戰績'\n\\item '影響'\n\\item '很大'\n\\item '這個'\n\\item '發動機'\n\\item '啟動'\n\\item '目前'\n\\item '很難'\n\\item '有人'\n\\item '取代'\n\\item '試著'\n\\item '節奏'\n\\item '趕快'\n\\item '回來'\n\\item '劉育辰'\n\\item '指出'\n\\item '傑憲'\n\\item '目前'\n\\item '有點'\n\\item '自己'\n\\item '過大'\n\\item '壓力'\n\\item '自己'\n\\item '要求'\n\\item '高'\n\\end{enumerate*}\n",
            "text/markdown": "1. '統一'\n2. '獅隊'\n3. '季'\n4. '進入'\n5. '狀況'\n6. '今天'\n7. '特地'\n8. '換換'\n9. '棒次'\n10. '蘇智傑'\n11. '改打'\n12. '開路先鋒'\n13. '傑憲'\n14. '移到'\n15. '第二'\n16. '棒'\n17. '打擊'\n18. '教練'\n19. '劉育辰'\n20. '解釋'\n21. '需要'\n22. '多一點'\n23. '人'\n24. '前段'\n25. '上壘'\n26. '此'\n27. '安排'\n28. '蘇智傑'\n29. '開季'\n30. '至今'\n31. '場'\n32. '比賽'\n33. '敲出'\n34. '支'\n35. '安打'\n36. '打擊率'\n37. '剛好'\n38. '傑憲'\n39. '敲出'\n40. '安打'\n41. '打擊率'\n42. '兩人'\n43. '去年'\n44. '有些'\n45. '落差'\n46. '獅隊'\n47. '總教練'\n48. '林岳平'\n49. '認為'\n50. '或許'\n51. '自己'\n52. '春訓'\n53. '安排'\n54. '問題'\n55. '兩人'\n56. '足夠'\n57. '出賽'\n58. '機會'\n59. '去'\n60. '調整'\n61. '手感'\n62. '進入'\n63. '開季'\n64. '節奏'\n65. '劉育辰'\n66. '認為'\n67. '這樣'\n68. '狀況'\n69. '透過'\n70. '練習'\n71. '日'\n72. '增加'\n73. '實戰'\n74. '打擊'\n75. '他們'\n76. '快速'\n77. '進入'\n78. '比賽'\n79. '節奏'\n80. '趕緊'\n81. '提升'\n82. '起來'\n83. '至於'\n84. '今天'\n85. '打線'\n86. '安排'\n87. '劉育辰'\n88. '認為'\n89. '傑憲'\n90. '上壘'\n91. '率'\n92. '下滑'\n93. '情況'\n94. '考量'\n95. '到'\n96. '蘇智傑'\n97. '過往'\n98. '上壘'\n99. '率不差'\n100. '因此'\n101. '需要'\n102. '多'\n103. '一個'\n104. '上壘'\n105. '人選'\n106. '劉育辰'\n107. '傑憲'\n108. '狀況'\n109. '好壞'\n110. '球隊'\n111. '戰績'\n112. '影響'\n113. '很大'\n114. '這個'\n115. '發動機'\n116. '啟動'\n117. '目前'\n118. '很難'\n119. '有人'\n120. '取代'\n121. '試著'\n122. '節奏'\n123. '趕快'\n124. '回來'\n125. '劉育辰'\n126. '指出'\n127. '傑憲'\n128. '目前'\n129. '有點'\n130. '自己'\n131. '過大'\n132. '壓力'\n133. '自己'\n134. '要求'\n135. '高'\n\n\n",
            "text/html": [
              "<style>\n",
              ".list-inline {list-style: none; margin:0; padding: 0}\n",
              ".list-inline>li {display: inline-block}\n",
              ".list-inline>li:not(:last-child)::after {content: \"\\00b7\"; padding: 0 .5ex}\n",
              "</style>\n",
              "<ol class=list-inline><li>'統一'</li><li>'獅隊'</li><li>'季'</li><li>'進入'</li><li>'狀況'</li><li>'今天'</li><li>'特地'</li><li>'換換'</li><li>'棒次'</li><li>'蘇智傑'</li><li>'改打'</li><li>'開路先鋒'</li><li>'傑憲'</li><li>'移到'</li><li>'第二'</li><li>'棒'</li><li>'打擊'</li><li>'教練'</li><li>'劉育辰'</li><li>'解釋'</li><li>'需要'</li><li>'多一點'</li><li>'人'</li><li>'前段'</li><li>'上壘'</li><li>'此'</li><li>'安排'</li><li>'蘇智傑'</li><li>'開季'</li><li>'至今'</li><li>'場'</li><li>'比賽'</li><li>'敲出'</li><li>'支'</li><li>'安打'</li><li>'打擊率'</li><li>'剛好'</li><li>'傑憲'</li><li>'敲出'</li><li>'安打'</li><li>'打擊率'</li><li>'兩人'</li><li>'去年'</li><li>'有些'</li><li>'落差'</li><li>'獅隊'</li><li>'總教練'</li><li>'林岳平'</li><li>'認為'</li><li>'或許'</li><li>'自己'</li><li>'春訓'</li><li>'安排'</li><li>'問題'</li><li>'兩人'</li><li>'足夠'</li><li>'出賽'</li><li>'機會'</li><li>'去'</li><li>'調整'</li><li>'手感'</li><li>'進入'</li><li>'開季'</li><li>'節奏'</li><li>'劉育辰'</li><li>'認為'</li><li>'這樣'</li><li>'狀況'</li><li>'透過'</li><li>'練習'</li><li>'日'</li><li>'增加'</li><li>'實戰'</li><li>'打擊'</li><li>'他們'</li><li>'快速'</li><li>'進入'</li><li>'比賽'</li><li>'節奏'</li><li>'趕緊'</li><li>'提升'</li><li>'起來'</li><li>'至於'</li><li>'今天'</li><li>'打線'</li><li>'安排'</li><li>'劉育辰'</li><li>'認為'</li><li>'傑憲'</li><li>'上壘'</li><li>'率'</li><li>'下滑'</li><li>'情況'</li><li>'考量'</li><li>'到'</li><li>'蘇智傑'</li><li>'過往'</li><li>'上壘'</li><li>'率不差'</li><li>'因此'</li><li>'需要'</li><li>'多'</li><li>'一個'</li><li>'上壘'</li><li>'人選'</li><li>'劉育辰'</li><li>'傑憲'</li><li>'狀況'</li><li>'好壞'</li><li>'球隊'</li><li>'戰績'</li><li>'影響'</li><li>'很大'</li><li>'這個'</li><li>'發動機'</li><li>'啟動'</li><li>'目前'</li><li>'很難'</li><li>'有人'</li><li>'取代'</li><li>'試著'</li><li>'節奏'</li><li>'趕快'</li><li>'回來'</li><li>'劉育辰'</li><li>'指出'</li><li>'傑憲'</li><li>'目前'</li><li>'有點'</li><li>'自己'</li><li>'過大'</li><li>'壓力'</li><li>'自己'</li><li>'要求'</li><li>'高'</li></ol>\n"
            ]
          },
          "metadata": {
            "tags": []
          }
        }
      ]
    },
    {
      "cell_type": "code",
      "metadata": {
        "colab": {
          "base_uri": "https://localhost:8080/",
          "height": 283
        },
        "id": "VQ86JGhvSpv5",
        "outputId": "e6365b6d-ed26-4210-cb0d-809bccf937a5"
      },
      "source": [
        "#計算詞彙頻率\n",
        "txt_freq <- freq(seg_words)\n",
        "#由小到大排列\n",
        "txt_freq <- arrange(txt_freq, desc(freq))\n",
        "#檢查前5名\n",
        "head(txt_freq)"
      ],
      "execution_count": 58,
      "outputs": [
        {
          "output_type": "display_data",
          "data": {
            "text/plain": [
              "  char   freq\n",
              "1 劉育辰 5   \n",
              "2 傑憲   5   \n",
              "3 上壘   4   \n",
              "4 安排   3   \n",
              "5 進入   3   \n",
              "6 狀況   3   "
            ],
            "text/latex": "A data.frame: 6 × 2\n\\begin{tabular}{r|ll}\n  & char & freq\\\\\n  & <chr> & <dbl>\\\\\n\\hline\n\t1 & 劉育辰 & 5\\\\\n\t2 & 傑憲   & 5\\\\\n\t3 & 上壘   & 4\\\\\n\t4 & 安排   & 3\\\\\n\t5 & 進入   & 3\\\\\n\t6 & 狀況   & 3\\\\\n\\end{tabular}\n",
            "text/markdown": "\nA data.frame: 6 × 2\n\n| <!--/--> | char &lt;chr&gt; | freq &lt;dbl&gt; |\n|---|---|---|\n| 1 | 劉育辰 | 5 |\n| 2 | 傑憲   | 5 |\n| 3 | 上壘   | 4 |\n| 4 | 安排   | 3 |\n| 5 | 進入   | 3 |\n| 6 | 狀況   | 3 |\n\n",
            "text/html": [
              "<table class=\"dataframe\">\n",
              "<caption>A data.frame: 6 × 2</caption>\n",
              "<thead>\n",
              "\t<tr><th></th><th scope=col>char</th><th scope=col>freq</th></tr>\n",
              "\t<tr><th></th><th scope=col>&lt;chr&gt;</th><th scope=col>&lt;dbl&gt;</th></tr>\n",
              "</thead>\n",
              "<tbody>\n",
              "\t<tr><th scope=row>1</th><td>劉育辰</td><td>5</td></tr>\n",
              "\t<tr><th scope=row>2</th><td>傑憲  </td><td>5</td></tr>\n",
              "\t<tr><th scope=row>3</th><td>上壘  </td><td>4</td></tr>\n",
              "\t<tr><th scope=row>4</th><td>安排  </td><td>3</td></tr>\n",
              "\t<tr><th scope=row>5</th><td>進入  </td><td>3</td></tr>\n",
              "\t<tr><th scope=row>6</th><td>狀況  </td><td>3</td></tr>\n",
              "</tbody>\n",
              "</table>\n"
            ]
          },
          "metadata": {
            "tags": []
          }
        }
      ]
    },
    {
      "cell_type": "code",
      "metadata": {
        "colab": {
          "base_uri": "https://localhost:8080/",
          "height": 1000
        },
        "id": "MvA8Rcd-TOJ3",
        "outputId": "cb80a6b5-fbd7-4372-9926-869569aeddee"
      },
      "source": [
        "par(family=(\"Microsoft YaHei\"))\n",
        "wordcloud(txt_freq$char, txt_freq$freq, min.freq = 2, random.order = F, \n",
        "ordered.colors = F, colors = rainbow(nrow(txt_freq)))"
      ],
      "execution_count": 59,
      "outputs": [
        {
          "output_type": "stream",
          "text": [
            "Warning message in strwidth(words[i], cex = size[i], ...):\n",
            "“font family 'Microsoft YaHei' not found, will use 'wqy-microhei' instead”\n",
            "Warning message in strheight(words[i], cex = size[i], ...):\n",
            "“font family 'Microsoft YaHei' not found, will use 'sans' instead”\n",
            "Warning message in text.default(x1, y1, words[i], cex = size[i], offset = 0, srt = rotWord * :\n",
            "“font family 'Microsoft YaHei' not found, will use 'wqy-microhei' instead”\n",
            "Warning message in text.default(x1, y1, words[i], cex = size[i], offset = 0, srt = rotWord * :\n",
            "“font family 'Microsoft YaHei' not found, will use 'wqy-microhei' instead”\n",
            "Warning message in text.default(x1, y1, words[i], cex = size[i], offset = 0, srt = rotWord * :\n",
            "“font family 'Microsoft YaHei' not found, will use 'wqy-microhei' instead”\n",
            "Warning message in text.default(x1, y1, words[i], cex = size[i], offset = 0, srt = rotWord * :\n",
            "“font family 'Microsoft YaHei' not found, will use 'wqy-microhei' instead”\n",
            "Warning message in text.default(x1, y1, words[i], cex = size[i], offset = 0, srt = rotWord * :\n",
            "“font family 'Microsoft YaHei' not found, will use 'wqy-microhei' instead”\n",
            "Warning message in strwidth(words[i], cex = size[i], ...):\n",
            "“font family 'Microsoft YaHei' not found, will use 'wqy-microhei' instead”\n",
            "Warning message in text.default(x1, y1, words[i], cex = size[i], offset = 0, srt = rotWord * :\n",
            "“font family 'Microsoft YaHei' not found, will use 'wqy-microhei' instead”\n",
            "Warning message in text.default(x1, y1, words[i], cex = size[i], offset = 0, srt = rotWord * :\n",
            "“font family 'Microsoft YaHei' not found, will use 'wqy-microhei' instead”\n",
            "Warning message in text.default(x1, y1, words[i], cex = size[i], offset = 0, srt = rotWord * :\n",
            "“font family 'Microsoft YaHei' not found, will use 'wqy-microhei' instead”\n",
            "Warning message in text.default(x1, y1, words[i], cex = size[i], offset = 0, srt = rotWord * :\n",
            "“font family 'Microsoft YaHei' not found, will use 'wqy-microhei' instead”\n",
            "Warning message in strwidth(words[i], cex = size[i], ...):\n",
            "“font family 'Microsoft YaHei' not found, will use 'wqy-microhei' instead”\n",
            "Warning message in strheight(words[i], cex = size[i], ...):\n",
            "“font family 'Microsoft YaHei' not found, will use 'sans' instead”\n",
            "Warning message in text.default(x1, y1, words[i], cex = size[i], offset = 0, srt = rotWord * :\n",
            "“font family 'Microsoft YaHei' not found, will use 'wqy-microhei' instead”\n",
            "Warning message in text.default(x1, y1, words[i], cex = size[i], offset = 0, srt = rotWord * :\n",
            "“font family 'Microsoft YaHei' not found, will use 'wqy-microhei' instead”\n",
            "Warning message in text.default(x1, y1, words[i], cex = size[i], offset = 0, srt = rotWord * :\n",
            "“font family 'Microsoft YaHei' not found, will use 'wqy-microhei' instead”\n",
            "Warning message in text.default(x1, y1, words[i], cex = size[i], offset = 0, srt = rotWord * :\n",
            "“font family 'Microsoft YaHei' not found, will use 'wqy-microhei' instead”\n",
            "Warning message in strwidth(words[i], cex = size[i], ...):\n",
            "“font family 'Microsoft YaHei' not found, will use 'wqy-microhei' instead”\n",
            "Warning message in strheight(words[i], cex = size[i], ...):\n",
            "“font family 'Microsoft YaHei' not found, will use 'sans' instead”\n",
            "Warning message in text.default(x1, y1, words[i], cex = size[i], offset = 0, srt = rotWord * :\n",
            "“font family 'Microsoft YaHei' not found, will use 'wqy-microhei' instead”\n",
            "Warning message in text.default(x1, y1, words[i], cex = size[i], offset = 0, srt = rotWord * :\n",
            "“font family 'Microsoft YaHei' not found, will use 'wqy-microhei' instead”\n",
            "Warning message in text.default(x1, y1, words[i], cex = size[i], offset = 0, srt = rotWord * :\n",
            "“font family 'Microsoft YaHei' not found, will use 'wqy-microhei' instead”\n",
            "Warning message in text.default(x1, y1, words[i], cex = size[i], offset = 0, srt = rotWord * :\n",
            "“font family 'Microsoft YaHei' not found, will use 'wqy-microhei' instead”\n",
            "Warning message in strwidth(words[i], cex = size[i], ...):\n",
            "“font family 'Microsoft YaHei' not found, will use 'wqy-microhei' instead”\n",
            "Warning message in text.default(x1, y1, words[i], cex = size[i], offset = 0, srt = rotWord * :\n",
            "“font family 'Microsoft YaHei' not found, will use 'wqy-microhei' instead”\n",
            "Warning message in text.default(x1, y1, words[i], cex = size[i], offset = 0, srt = rotWord * :\n",
            "“font family 'Microsoft YaHei' not found, will use 'wqy-microhei' instead”\n",
            "Warning message in text.default(x1, y1, words[i], cex = size[i], offset = 0, srt = rotWord * :\n",
            "“font family 'Microsoft YaHei' not found, will use 'wqy-microhei' instead”\n",
            "Warning message in text.default(x1, y1, words[i], cex = size[i], offset = 0, srt = rotWord * :\n",
            "“font family 'Microsoft YaHei' not found, will use 'wqy-microhei' instead”\n",
            "Warning message in strwidth(words[i], cex = size[i], ...):\n",
            "“font family 'Microsoft YaHei' not found, will use 'wqy-microhei' instead”\n",
            "Warning message in text.default(x1, y1, words[i], cex = size[i], offset = 0, srt = rotWord * :\n",
            "“font family 'Microsoft YaHei' not found, will use 'wqy-microhei' instead”\n",
            "Warning message in text.default(x1, y1, words[i], cex = size[i], offset = 0, srt = rotWord * :\n",
            "“font family 'Microsoft YaHei' not found, will use 'wqy-microhei' instead”\n",
            "Warning message in text.default(x1, y1, words[i], cex = size[i], offset = 0, srt = rotWord * :\n",
            "“font family 'Microsoft YaHei' not found, will use 'wqy-microhei' instead”\n",
            "Warning message in text.default(x1, y1, words[i], cex = size[i], offset = 0, srt = rotWord * :\n",
            "“font family 'Microsoft YaHei' not found, will use 'wqy-microhei' instead”\n",
            "Warning message in strwidth(words[i], cex = size[i], ...):\n",
            "“font family 'Microsoft YaHei' not found, will use 'wqy-microhei' instead”\n",
            "Warning message in text.default(x1, y1, words[i], cex = size[i], offset = 0, srt = rotWord * :\n",
            "“font family 'Microsoft YaHei' not found, will use 'wqy-microhei' instead”\n",
            "Warning message in text.default(x1, y1, words[i], cex = size[i], offset = 0, srt = rotWord * :\n",
            "“font family 'Microsoft YaHei' not found, will use 'wqy-microhei' instead”\n",
            "Warning message in text.default(x1, y1, words[i], cex = size[i], offset = 0, srt = rotWord * :\n",
            "“font family 'Microsoft YaHei' not found, will use 'wqy-microhei' instead”\n",
            "Warning message in text.default(x1, y1, words[i], cex = size[i], offset = 0, srt = rotWord * :\n",
            "“font family 'Microsoft YaHei' not found, will use 'wqy-microhei' instead”\n",
            "Warning message in strwidth(words[i], cex = size[i], ...):\n",
            "“font family 'Microsoft YaHei' not found, will use 'wqy-microhei' instead”\n",
            "Warning message in text.default(x1, y1, words[i], cex = size[i], offset = 0, srt = rotWord * :\n",
            "“font family 'Microsoft YaHei' not found, will use 'wqy-microhei' instead”\n",
            "Warning message in text.default(x1, y1, words[i], cex = size[i], offset = 0, srt = rotWord * :\n",
            "“font family 'Microsoft YaHei' not found, will use 'wqy-microhei' instead”\n",
            "Warning message in text.default(x1, y1, words[i], cex = size[i], offset = 0, srt = rotWord * :\n",
            "“font family 'Microsoft YaHei' not found, will use 'wqy-microhei' instead”\n",
            "Warning message in text.default(x1, y1, words[i], cex = size[i], offset = 0, srt = rotWord * :\n",
            "“font family 'Microsoft YaHei' not found, will use 'wqy-microhei' instead”\n",
            "Warning message in strwidth(words[i], cex = size[i], ...):\n",
            "“font family 'Microsoft YaHei' not found, will use 'wqy-microhei' instead”\n",
            "Warning message in text.default(x1, y1, words[i], cex = size[i], offset = 0, srt = rotWord * :\n",
            "“font family 'Microsoft YaHei' not found, will use 'wqy-microhei' instead”\n",
            "Warning message in text.default(x1, y1, words[i], cex = size[i], offset = 0, srt = rotWord * :\n",
            "“font family 'Microsoft YaHei' not found, will use 'wqy-microhei' instead”\n",
            "Warning message in text.default(x1, y1, words[i], cex = size[i], offset = 0, srt = rotWord * :\n",
            "“font family 'Microsoft YaHei' not found, will use 'wqy-microhei' instead”\n",
            "Warning message in text.default(x1, y1, words[i], cex = size[i], offset = 0, srt = rotWord * :\n",
            "“font family 'Microsoft YaHei' not found, will use 'wqy-microhei' instead”\n",
            "Warning message in strwidth(words[i], cex = size[i], ...):\n",
            "“font family 'Microsoft YaHei' not found, will use 'wqy-microhei' instead”\n",
            "Warning message in text.default(x1, y1, words[i], cex = size[i], offset = 0, srt = rotWord * :\n",
            "“font family 'Microsoft YaHei' not found, will use 'wqy-microhei' instead”\n",
            "Warning message in text.default(x1, y1, words[i], cex = size[i], offset = 0, srt = rotWord * :\n",
            "“font family 'Microsoft YaHei' not found, will use 'wqy-microhei' instead”\n",
            "Warning message in text.default(x1, y1, words[i], cex = size[i], offset = 0, srt = rotWord * :\n",
            "“font family 'Microsoft YaHei' not found, will use 'wqy-microhei' instead”\n",
            "Warning message in text.default(x1, y1, words[i], cex = size[i], offset = 0, srt = rotWord * :\n",
            "“font family 'Microsoft YaHei' not found, will use 'wqy-microhei' instead”\n",
            "Warning message in text.default(x1, y1, words[i], cex = size[i], offset = 0, srt = rotWord * :\n",
            "“font family 'Microsoft YaHei' not found, will use 'wqy-microhei' instead”\n",
            "Warning message in strwidth(words[i], cex = size[i], ...):\n",
            "“font family 'Microsoft YaHei' not found, will use 'wqy-microhei' instead”\n",
            "Warning message in strheight(words[i], cex = size[i], ...):\n",
            "“font family 'Microsoft YaHei' not found, will use 'sans' instead”\n",
            "Warning message in text.default(x1, y1, words[i], cex = size[i], offset = 0, srt = rotWord * :\n",
            "“font family 'Microsoft YaHei' not found, will use 'wqy-microhei' instead”\n",
            "Warning message in text.default(x1, y1, words[i], cex = size[i], offset = 0, srt = rotWord * :\n",
            "“font family 'Microsoft YaHei' not found, will use 'wqy-microhei' instead”\n",
            "Warning message in text.default(x1, y1, words[i], cex = size[i], offset = 0, srt = rotWord * :\n",
            "“font family 'Microsoft YaHei' not found, will use 'wqy-microhei' instead”\n",
            "Warning message in text.default(x1, y1, words[i], cex = size[i], offset = 0, srt = rotWord * :\n",
            "“font family 'Microsoft YaHei' not found, will use 'wqy-microhei' instead”\n",
            "Warning message in strwidth(words[i], cex = size[i], ...):\n",
            "“font family 'Microsoft YaHei' not found, will use 'wqy-microhei' instead”\n",
            "Warning message in text.default(x1, y1, words[i], cex = size[i], offset = 0, srt = rotWord * :\n",
            "“font family 'Microsoft YaHei' not found, will use 'wqy-microhei' instead”\n",
            "Warning message in text.default(x1, y1, words[i], cex = size[i], offset = 0, srt = rotWord * :\n",
            "“font family 'Microsoft YaHei' not found, will use 'wqy-microhei' instead”\n",
            "Warning message in text.default(x1, y1, words[i], cex = size[i], offset = 0, srt = rotWord * :\n",
            "“font family 'Microsoft YaHei' not found, will use 'wqy-microhei' instead”\n",
            "Warning message in text.default(x1, y1, words[i], cex = size[i], offset = 0, srt = rotWord * :\n",
            "“font family 'Microsoft YaHei' not found, will use 'wqy-microhei' instead”\n",
            "Warning message in strwidth(words[i], cex = size[i], ...):\n",
            "“font family 'Microsoft YaHei' not found, will use 'wqy-microhei' instead”\n",
            "Warning message in text.default(x1, y1, words[i], cex = size[i], offset = 0, srt = rotWord * :\n",
            "“font family 'Microsoft YaHei' not found, will use 'wqy-microhei' instead”\n",
            "Warning message in text.default(x1, y1, words[i], cex = size[i], offset = 0, srt = rotWord * :\n",
            "“font family 'Microsoft YaHei' not found, will use 'wqy-microhei' instead”\n",
            "Warning message in text.default(x1, y1, words[i], cex = size[i], offset = 0, srt = rotWord * :\n",
            "“font family 'Microsoft YaHei' not found, will use 'wqy-microhei' instead”\n",
            "Warning message in text.default(x1, y1, words[i], cex = size[i], offset = 0, srt = rotWord * :\n",
            "“font family 'Microsoft YaHei' not found, will use 'wqy-microhei' instead”\n",
            "Warning message in strwidth(words[i], cex = size[i], ...):\n",
            "“font family 'Microsoft YaHei' not found, will use 'wqy-microhei' instead”\n",
            "Warning message in text.default(x1, y1, words[i], cex = size[i], offset = 0, srt = rotWord * :\n",
            "“font family 'Microsoft YaHei' not found, will use 'wqy-microhei' instead”\n",
            "Warning message in text.default(x1, y1, words[i], cex = size[i], offset = 0, srt = rotWord * :\n",
            "“font family 'Microsoft YaHei' not found, will use 'wqy-microhei' instead”\n",
            "Warning message in text.default(x1, y1, words[i], cex = size[i], offset = 0, srt = rotWord * :\n",
            "“font family 'Microsoft YaHei' not found, will use 'wqy-microhei' instead”\n",
            "Warning message in text.default(x1, y1, words[i], cex = size[i], offset = 0, srt = rotWord * :\n",
            "“font family 'Microsoft YaHei' not found, will use 'wqy-microhei' instead”\n",
            "Warning message in strwidth(words[i], cex = size[i], ...):\n",
            "“font family 'Microsoft YaHei' not found, will use 'wqy-microhei' instead”\n",
            "Warning message in text.default(x1, y1, words[i], cex = size[i], offset = 0, srt = rotWord * :\n",
            "“font family 'Microsoft YaHei' not found, will use 'wqy-microhei' instead”\n",
            "Warning message in text.default(x1, y1, words[i], cex = size[i], offset = 0, srt = rotWord * :\n",
            "“font family 'Microsoft YaHei' not found, will use 'wqy-microhei' instead”\n",
            "Warning message in text.default(x1, y1, words[i], cex = size[i], offset = 0, srt = rotWord * :\n",
            "“font family 'Microsoft YaHei' not found, will use 'wqy-microhei' instead”\n",
            "Warning message in text.default(x1, y1, words[i], cex = size[i], offset = 0, srt = rotWord * :\n",
            "“font family 'Microsoft YaHei' not found, will use 'wqy-microhei' instead”\n",
            "Warning message in strwidth(words[i], cex = size[i], ...):\n",
            "“font family 'Microsoft YaHei' not found, will use 'wqy-microhei' instead”\n",
            "Warning message in text.default(x1, y1, words[i], cex = size[i], offset = 0, srt = rotWord * :\n",
            "“font family 'Microsoft YaHei' not found, will use 'wqy-microhei' instead”\n",
            "Warning message in text.default(x1, y1, words[i], cex = size[i], offset = 0, srt = rotWord * :\n",
            "“font family 'Microsoft YaHei' not found, will use 'wqy-microhei' instead”\n",
            "Warning message in text.default(x1, y1, words[i], cex = size[i], offset = 0, srt = rotWord * :\n",
            "“font family 'Microsoft YaHei' not found, will use 'wqy-microhei' instead”\n",
            "Warning message in text.default(x1, y1, words[i], cex = size[i], offset = 0, srt = rotWord * :\n",
            "“font family 'Microsoft YaHei' not found, will use 'wqy-microhei' instead”\n",
            "Warning message in strwidth(words[i], cex = size[i], ...):\n",
            "“font family 'Microsoft YaHei' not found, will use 'wqy-microhei' instead”\n",
            "Warning message in text.default(x1, y1, words[i], cex = size[i], offset = 0, srt = rotWord * :\n",
            "“font family 'Microsoft YaHei' not found, will use 'wqy-microhei' instead”\n",
            "Warning message in text.default(x1, y1, words[i], cex = size[i], offset = 0, srt = rotWord * :\n",
            "“font family 'Microsoft YaHei' not found, will use 'wqy-microhei' instead”\n",
            "Warning message in text.default(x1, y1, words[i], cex = size[i], offset = 0, srt = rotWord * :\n",
            "“font family 'Microsoft YaHei' not found, will use 'wqy-microhei' instead”\n",
            "Warning message in text.default(x1, y1, words[i], cex = size[i], offset = 0, srt = rotWord * :\n",
            "“font family 'Microsoft YaHei' not found, will use 'wqy-microhei' instead”\n",
            "Warning message in text.default(x1, y1, words[i], cex = size[i], offset = 0, srt = rotWord * :\n",
            "“font family 'Microsoft YaHei' not found, will use 'wqy-microhei' instead”\n",
            "Warning message in strwidth(words[i], cex = size[i], ...):\n",
            "“font family 'Microsoft YaHei' not found, will use 'wqy-microhei' instead”\n",
            "Warning message in text.default(x1, y1, words[i], cex = size[i], offset = 0, srt = rotWord * :\n",
            "“font family 'Microsoft YaHei' not found, will use 'wqy-microhei' instead”\n",
            "Warning message in text.default(x1, y1, words[i], cex = size[i], offset = 0, srt = rotWord * :\n",
            "“font family 'Microsoft YaHei' not found, will use 'wqy-microhei' instead”\n",
            "Warning message in text.default(x1, y1, words[i], cex = size[i], offset = 0, srt = rotWord * :\n",
            "“font family 'Microsoft YaHei' not found, will use 'wqy-microhei' instead”\n",
            "Warning message in text.default(x1, y1, words[i], cex = size[i], offset = 0, srt = rotWord * :\n",
            "“font family 'Microsoft YaHei' not found, will use 'wqy-microhei' instead”\n",
            "Warning message in strwidth(words[i], cex = size[i], ...):\n",
            "“font family 'Microsoft YaHei' not found, will use 'wqy-microhei' instead”\n",
            "Warning message in text.default(x1, y1, words[i], cex = size[i], offset = 0, srt = rotWord * :\n",
            "“font family 'Microsoft YaHei' not found, will use 'wqy-microhei' instead”\n",
            "Warning message in text.default(x1, y1, words[i], cex = size[i], offset = 0, srt = rotWord * :\n",
            "“font family 'Microsoft YaHei' not found, will use 'wqy-microhei' instead”\n",
            "Warning message in text.default(x1, y1, words[i], cex = size[i], offset = 0, srt = rotWord * :\n",
            "“font family 'Microsoft YaHei' not found, will use 'wqy-microhei' instead”\n",
            "Warning message in text.default(x1, y1, words[i], cex = size[i], offset = 0, srt = rotWord * :\n",
            "“font family 'Microsoft YaHei' not found, will use 'wqy-microhei' instead”\n",
            "Warning message in strwidth(words[i], cex = size[i], ...):\n",
            "“font family 'Microsoft YaHei' not found, will use 'wqy-microhei' instead”\n",
            "Warning message in text.default(x1, y1, words[i], cex = size[i], offset = 0, srt = rotWord * :\n",
            "“font family 'Microsoft YaHei' not found, will use 'wqy-microhei' instead”\n",
            "Warning message in text.default(x1, y1, words[i], cex = size[i], offset = 0, srt = rotWord * :\n",
            "“font family 'Microsoft YaHei' not found, will use 'wqy-microhei' instead”\n",
            "Warning message in text.default(x1, y1, words[i], cex = size[i], offset = 0, srt = rotWord * :\n",
            "“font family 'Microsoft YaHei' not found, will use 'wqy-microhei' instead”\n",
            "Warning message in text.default(x1, y1, words[i], cex = size[i], offset = 0, srt = rotWord * :\n",
            "“font family 'Microsoft YaHei' not found, will use 'wqy-microhei' instead”\n",
            "Warning message in strwidth(words[i], cex = size[i], ...):\n",
            "“font family 'Microsoft YaHei' not found, will use 'wqy-microhei' instead”\n",
            "Warning message in text.default(x1, y1, words[i], cex = size[i], offset = 0, srt = rotWord * :\n",
            "“font family 'Microsoft YaHei' not found, will use 'wqy-microhei' instead”\n",
            "Warning message in text.default(x1, y1, words[i], cex = size[i], offset = 0, srt = rotWord * :\n",
            "“font family 'Microsoft YaHei' not found, will use 'wqy-microhei' instead”\n",
            "Warning message in text.default(x1, y1, words[i], cex = size[i], offset = 0, srt = rotWord * :\n",
            "“font family 'Microsoft YaHei' not found, will use 'wqy-microhei' instead”\n",
            "Warning message in text.default(x1, y1, words[i], cex = size[i], offset = 0, srt = rotWord * :\n",
            "“font family 'Microsoft YaHei' not found, will use 'wqy-microhei' instead”\n"
          ],
          "name": "stderr"
        },
        {
          "output_type": "display_data",
          "data": {
            "image/png": "[encoded data removed]",
            "text/plain": [
              "plot without title"
            ]
          },
          "metadata": {
            "tags": [],
            "image/png": {
              "width": 420,
              "height": 420
            }
          }
        }
      ]
    },
    {
      "cell_type": "code",
      "metadata": {
        "colab": {
          "base_uri": "https://localhost:8080/"
        },
        "id": "-aKq1aZ0XOuG",
        "outputId": "aeddaf76-8af7-4b7a-adab-a5f1110987cd"
      },
      "source": [
        "install.packages(\"showtext\")"
      ],
      "execution_count": 34,
      "outputs": [
        {
          "output_type": "stream",
          "text": [
            "Installing package into ‘/usr/local/lib/R/site-library’\n",
            "(as ‘lib’ is unspecified)\n",
            "\n",
            "also installing the dependencies ‘sysfonts’, ‘showtextdb’\n",
            "\n",
            "\n"
          ],
          "name": "stderr"
        }
      ]
    },
    {
      "cell_type": "code",
      "metadata": {
        "colab": {
          "base_uri": "https://localhost:8080/"
        },
        "id": "7nFyKy6oYFDl",
        "outputId": "4cd0a95d-99fb-42c0-c3f5-7dac7b1e8691"
      },
      "source": [
        "library(showtext)"
      ],
      "execution_count": 35,
      "outputs": [
        {
          "output_type": "stream",
          "text": [
            "Loading required package: sysfonts\n",
            "\n",
            "Loading required package: showtextdb\n",
            "\n"
          ],
          "name": "stderr"
        }
      ]
    },
    {
      "cell_type": "code",
      "metadata": {
        "colab": {
          "base_uri": "https://localhost:8080/"
        },
        "id": "dYs8Ge6WYJFl",
        "outputId": "c5ea81ae-2a56-4adf-8a12-033a1e2df61c"
      },
      "source": [
        "showtext.auto(enable = TRUE)"
      ],
      "execution_count": 36,
      "outputs": [
        {
          "output_type": "stream",
          "text": [
            "'showtext.auto()' is now renamed to 'showtext_auto()'\n",
            "The old version still works, but consider using the new function in future code\n",
            "\n"
          ],
          "name": "stderr"
        }
      ]
    }
  ]
}